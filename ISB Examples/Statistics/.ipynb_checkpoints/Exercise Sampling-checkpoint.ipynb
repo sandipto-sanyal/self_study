{
 "cells": [
  {
   "cell_type": "code",
   "execution_count": 29,
   "metadata": {},
   "outputs": [],
   "source": [
    "import pandas as pd\n",
    "from itertools import combinations\n",
    "from statistics import mean, pstdev, stdev\n",
    "import matplotlib.pyplot as plt"
   ]
  },
  {
   "cell_type": "markdown",
   "metadata": {},
   "source": [
    "# Create the data of the companies"
   ]
  },
  {
   "cell_type": "code",
   "execution_count": 30,
   "metadata": {},
   "outputs": [],
   "source": [
    "df = pd.read_excel('Worksheets for calculations.xlsx',sheet_name='Visualize CLT')\n",
    "df = df.head(25)"
   ]
  },
  {
   "cell_type": "markdown",
   "metadata": {},
   "source": [
    "# Create combinations by taking n persons at a time"
   ]
  },
  {
   "cell_type": "code",
   "execution_count": 35,
   "metadata": {},
   "outputs": [
    {
     "name": "stdout",
     "output_type": "stream",
     "text": [
      "Total Combinations: 53130\n"
     ]
    },
    {
     "data": {
      "text/plain": [
       "[('P1', 'P2', 'P3', 'P4', 'P5'),\n",
       " ('P1', 'P2', 'P3', 'P4', 'P6'),\n",
       " ('P1', 'P2', 'P3', 'P4', 'P7'),\n",
       " ('P1', 'P2', 'P3', 'P4', 'P8'),\n",
       " ('P1', 'P2', 'P3', 'P4', 'P9'),\n",
       " ('P1', 'P2', 'P3', 'P4', 'P10'),\n",
       " ('P1', 'P2', 'P3', 'P4', 'P11'),\n",
       " ('P1', 'P2', 'P3', 'P4', 'P12'),\n",
       " ('P1', 'P2', 'P3', 'P4', 'P13'),\n",
       " ('P1', 'P2', 'P3', 'P4', 'P14'),\n",
       " ('P1', 'P2', 'P3', 'P4', 'P15'),\n",
       " ('P1', 'P2', 'P3', 'P4', 'P16'),\n",
       " ('P1', 'P2', 'P3', 'P4', 'P17'),\n",
       " ('P1', 'P2', 'P3', 'P4', 'P18'),\n",
       " ('P1', 'P2', 'P3', 'P4', 'P19'),\n",
       " ('P1', 'P2', 'P3', 'P4', 'P20'),\n",
       " ('P1', 'P2', 'P3', 'P4', 'P21'),\n",
       " ('P1', 'P2', 'P3', 'P4', 'P22'),\n",
       " ('P1', 'P2', 'P3', 'P4', 'P23'),\n",
       " ('P1', 'P2', 'P3', 'P4', 'P24')]"
      ]
     },
     "execution_count": 35,
     "metadata": {},
     "output_type": "execute_result"
    }
   ],
   "source": [
    "n_taken_at_a_time = 5\n",
    "combination_of_companies = combinations(df['Person names'],n_taken_at_a_time)\n",
    "combination_of_companies = list(combination_of_companies)\n",
    "print('Total Combinations: {}'.format(len(combination_of_companies)))\n",
    "combination_of_companies[:20]"
   ]
  },
  {
   "cell_type": "markdown",
   "metadata": {},
   "source": [
    "# Store the mean of samples"
   ]
  },
  {
   "cell_type": "code",
   "execution_count": 36,
   "metadata": {},
   "outputs": [],
   "source": [
    "mean_ages_of_samples = []\n",
    "for combination in combination_of_companies:\n",
    "    sample_ages = []\n",
    "    for persons in combination:\n",
    "        sample_ages.append(df[df['Person names']==persons]['Person age'].values[0])\n",
    "    mean_ages_of_samples.append(mean(sample_ages))"
   ]
  },
  {
   "cell_type": "markdown",
   "metadata": {},
   "source": [
    "# Distribution of population age"
   ]
  },
  {
   "cell_type": "code",
   "execution_count": 21,
   "metadata": {},
   "outputs": [
    {
     "data": {
      "text/plain": [
       "<matplotlib.axes._subplots.AxesSubplot at 0x1f30a5291c8>"
      ]
     },
     "execution_count": 21,
     "metadata": {},
     "output_type": "execute_result"
    },
    {
     "data": {
      "image/png": "[encoded data removed]",
      "text/plain": [
       "<Figure size 432x288 with 1 Axes>"
      ]
     },
     "metadata": {
      "needs_background": "light"
     },
     "output_type": "display_data"
    }
   ],
   "source": [
    "df['Person age'].plot.hist()"
   ]
  },
  {
   "cell_type": "markdown",
   "metadata": {},
   "source": [
    "# Distributions of sample means"
   ]
  },
  {
   "cell_type": "code",
   "execution_count": 45,
   "metadata": {},
   "outputs": [
    {
     "data": {
      "image/png": "[encoded data removed]",
      "text/plain": [
       "<Figure size 432x288 with 1 Axes>"
      ]
     },
     "metadata": {
      "needs_background": "light"
     },
     "output_type": "display_data"
    }
   ],
   "source": [
    "plt.hist(mean_ages_of_samples,bins=100)\n",
    "plt.show()"
   ]
  },
  {
   "cell_type": "markdown",
   "metadata": {},
   "source": [
    "# Population Mean and Standard deviation"
   ]
  },
  {
   "cell_type": "code",
   "execution_count": 31,
   "metadata": {},
   "outputs": [
    {
     "name": "stdout",
     "output_type": "stream",
     "text": [
      "Population mean = 35\n",
      "Population sd = 24.310491562286437\n"
     ]
    }
   ],
   "source": [
    "pop_mean = mean(df['Person age'].values)\n",
    "pop_sd = pstdev(df['Person age'].values)\n",
    "print('Population mean = {}'.format(pop_mean))\n",
    "print('Population sd = {}'.format(pop_sd))"
   ]
  },
  {
   "cell_type": "markdown",
   "metadata": {},
   "source": [
    "# Mean and Standard deviation of sample means"
   ]
  },
  {
   "cell_type": "code",
   "execution_count": 39,
   "metadata": {},
   "outputs": [
    {
     "name": "stdout",
     "output_type": "stream",
     "text": [
      "Mean of sample means: 35\n",
      "Standard deviation of mean ages of samples 9.899494936611665\n"
     ]
    }
   ],
   "source": [
    "print('Mean of sample means: {}'.format(mean(mean_ages_of_samples)))\n",
    "print('Standard deviation of mean ages of samples {}'.format(pstdev(mean_ages_of_samples)))"
   ]
  },
  {
   "cell_type": "markdown",
   "metadata": {},
   "source": [
    "# Relationship with population standard deviation"
   ]
  },
  {
   "cell_type": "code",
   "execution_count": 40,
   "metadata": {},
   "outputs": [
    {
     "data": {
      "text/plain": [
       "22.135943621178658"
      ]
     },
     "execution_count": 40,
     "metadata": {},
     "output_type": "execute_result"
    }
   ],
   "source": [
    "pstdev(mean_ages_of_samples)*n_taken_at_a_time**0.5"
   ]
  },
  {
   "cell_type": "markdown",
   "metadata": {},
   "source": [
    "# Observations and Inferences\n",
    " - Mean of sample means = mean of population\n",
    " - Also note that none of the sample mean is equal to the population mean. So suppose out of the population we take a sample it is least likely that the given sample's mean = population mean.\n",
    " - Standard deviation of sample means is a scaled version of Population standard deviations by a factor of sqrt(number of samples)\n",
    " - The distribution of sample means follow a normal distribution and the population distribution doesn't really matter. It can follow any horrible distribution it may like."
   ]
  },
  {
   "cell_type": "code",
   "execution_count": null,
   "metadata": {},
   "outputs": [],
   "source": []
  }
 ],
 "metadata": {
  "kernelspec": {
   "display_name": "Python 3",
   "language": "python",
   "name": "python3"
  },
  "language_info": {
   "codemirror_mode": {
    "name": "ipython",
    "version": 3
   },
   "file_extension": ".py",
   "mimetype": "text/x-python",
   "name": "python",
   "nbconvert_exporter": "python",
   "pygments_lexer": "ipython3",
   "version": "3.7.6"
  }
 },
 "nbformat": 4,
 "nbformat_minor": 4
}
