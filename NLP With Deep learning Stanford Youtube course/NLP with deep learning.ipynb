{
 "cells": [
  {
   "cell_type": "markdown",
   "metadata": {},
   "source": [
    "# Visualize Gensim working"
   ]
  },
  {
   "cell_type": "code",
   "execution_count": 1,
   "metadata": {},
   "outputs": [],
   "source": [
    "from gensim.models import Word2Vec"
   ]
  },
  {
   "cell_type": "code",
   "execution_count": 2,
   "metadata": {},
   "outputs": [
    {
     "name": "stdout",
     "output_type": "stream",
     "text": [
      "[['non', 'performing', 'assets', 'are', 'one', 'of', 'the', 'problems', 'turning', 'into', 'banking', 'crises', 'as', 'it', 'leads', 'to', 'loss']]\n"
     ]
    }
   ],
   "source": [
    "list_of_sentences = ['non performing assets are one of the problems turning into banking crises as it leads to loss']\n",
    "tokenized_sentences = [sentence.split() for sentence in list_of_sentences]\n",
    "print(tokenized_sentences)"
   ]
  },
  {
   "cell_type": "code",
   "execution_count": 3,
   "metadata": {},
   "outputs": [],
   "source": [
    "model = Word2Vec(sentences=tokenized_sentences, \n",
    "                 size=2, window=5, min_count=1, sg=1)"
   ]
  },
  {
   "cell_type": "code",
   "execution_count": 4,
   "metadata": {},
   "outputs": [
    {
     "data": {
      "text/plain": [
       "{'non': array([-0.18693967, -0.15800515], dtype=float32),\n",
       " 'performing': array([ 0.0074726, -0.1509622], dtype=float32),\n",
       " 'assets': array([-0.10327584, -0.13006584], dtype=float32),\n",
       " 'are': array([ 0.00730401, -0.22112899], dtype=float32),\n",
       " 'one': array([-0.22588845,  0.01959309], dtype=float32),\n",
       " 'of': array([ 0.01661124, -0.18766116], dtype=float32),\n",
       " 'the': array([0.07517134, 0.08451029], dtype=float32),\n",
       " 'problems': array([-0.11244921, -0.0143136 ], dtype=float32),\n",
       " 'turning': array([ 0.20687729, -0.04005652], dtype=float32),\n",
       " 'into': array([-0.02907272,  0.09705754], dtype=float32),\n",
       " 'banking': array([-0.14198998,  0.12826993], dtype=float32),\n",
       " 'crises': array([-0.031184  , -0.11649615], dtype=float32),\n",
       " 'as': array([-0.22592089, -0.17695941], dtype=float32),\n",
       " 'it': array([-0.11831223, -0.03807651], dtype=float32),\n",
       " 'leads': array([-0.00324012,  0.18403222], dtype=float32),\n",
       " 'to': array([-0.18521652, -0.0352468 ], dtype=float32),\n",
       " 'loss': array([-0.17831104,  0.205461  ], dtype=float32)}"
      ]
     },
     "execution_count": 4,
     "metadata": {},
     "output_type": "execute_result"
    }
   ],
   "source": [
    "word_to_vector = {}\n",
    "X = []\n",
    "Y = []\n",
    "for word in model.wv.vocab.keys():\n",
    "    word_to_vector[word] = model.wv.get_vector(word)\n",
    "    X.append(model.wv.get_vector(word)[0])\n",
    "    Y.append(model.wv.get_vector(word)[1])\n",
    "word_to_vector"
   ]
  },
  {
   "cell_type": "code",
   "execution_count": 5,
   "metadata": {},
   "outputs": [
    {
     "data": {
      "image/png": "[encoded data removed]",
      "text/plain": [
       "<Figure size 432x288 with 1 Axes>"
      ]
     },
     "metadata": {
      "needs_background": "light"
     },
     "output_type": "display_data"
    }
   ],
   "source": [
    "import matplotlib.pyplot as plt\n",
    "plt.scatter(X,Y)\n",
    "for word in word_to_vector.keys():\n",
    "    plt.annotate(word,xy=tuple(word_to_vector.get(word)))\n",
    "plt.xlabel('X')\n",
    "plt.ylabel('Y')\n",
    "plt.show()"
   ]
  },
  {
   "cell_type": "markdown",
   "metadata": {},
   "source": [
    "# Using Co-Occurance matrix for embedding"
   ]
  },
  {
   "cell_type": "code",
   "execution_count": 21,
   "metadata": {},
   "outputs": [
    {
     "data": {
      "text/plain": [
       "['I',\n",
       " 'like',\n",
       " 'deep',\n",
       " 'learning',\n",
       " '.',\n",
       " 'I',\n",
       " 'like',\n",
       " 'NLP',\n",
       " '.',\n",
       " 'I',\n",
       " 'enjoy',\n",
       " 'flying',\n",
       " '.']"
      ]
     },
     "execution_count": 21,
     "metadata": {},
     "output_type": "execute_result"
    }
   ],
   "source": [
    "import numpy as np\n",
    "from sklearn.feature_extraction.text import CountVectorizer\n",
    "import pandas as pd\n",
    "from nltk.tokenize import WordPunctTokenizer\n",
    "sentence = 'I like deep learning. I like NLP. I enjoy flying.'\n",
    "         \n",
    "tokenizer = WordPunctTokenizer()\n",
    "tokenized_text = tokenizer.tokenize(sentence)\n",
    "tokenized_text"
   ]
  },
  {
   "cell_type": "code",
   "execution_count": null,
   "metadata": {},
   "outputs": [],
   "source": []
  }
 ],
 "metadata": {
  "kernelspec": {
   "display_name": "Python 3",
   "language": "python",
   "name": "python3"
  },
  "language_info": {
   "codemirror_mode": {
    "name": "ipython",
    "version": 3
   },
   "file_extension": ".py",
   "mimetype": "text/x-python",
   "name": "python",
   "nbconvert_exporter": "python",
   "pygments_lexer": "ipython3",
   "version": "3.7.7"
  }
 },
 "nbformat": 4,
 "nbformat_minor": 4
}
