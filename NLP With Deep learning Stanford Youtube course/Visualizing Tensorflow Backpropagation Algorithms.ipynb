{
 "cells": [
  {
   "cell_type": "markdown",
   "metadata": {},
   "source": [
    "# Visual"
   ]
  },
  {
   "cell_type": "code",
   "execution_count": 1,
   "metadata": {},
   "outputs": [],
   "source": [
    "import os\n",
    "os.environ['TF_CPP_MIN_LOG_LEVEL'] = '3' \n",
    "import tensorflow as tf"
   ]
  },
  {
   "cell_type": "code",
   "execution_count": 81,
   "metadata": {},
   "outputs": [],
   "source": [
    "def computation(input_dict:dict,\n",
    "                s_actual: list,\n",
    "                weights_initial_values: list = [[[1.]],[[1.]],[[1.]],[[1.]]],\n",
    "                epochs = 1\n",
    "               ):\n",
    "    # declaring the input signals\n",
    "    x = tf.constant(input_dict['x'], name='x')\n",
    "    y = tf.constant(input_dict['y'], name='y')\n",
    "    z = tf.constant(input_dict['z'], name='z')\n",
    "    \n",
    "    # declaring the individual weights\n",
    "    W_x = tf.Variable(weights_initial_values[0], name='W_x')\n",
    "    W_y1 = tf.Variable(weights_initial_values[1], name='W_y1')\n",
    "    W_y2 = tf.Variable(weights_initial_values[2], name='W_y2')\n",
    "    W_z = tf.Variable(weights_initial_values[3], name='W_y3')\n",
    "    \n",
    "    \"\"\"\n",
    "    Here we define the output function as below (W_x.x+W_y1.y)* Max(W_y2.y,W_z2.z)\n",
    "    This is called forward pass.\n",
    "    We put this whole forward pass into a gradient tape so that\n",
    "    tensorflow records each operation in the forward pass to compute the\n",
    "    automatic differentiations of the back propagation\n",
    "    without explicitly writing the formulae for backpropagation derivatives\n",
    "    \"\"\"\n",
    "    def feed_forward(h,g,s,error, loss):\n",
    "        h = tf.add(tf.matmul(W_x,x),tf.matmul(W_y1,y), name='h')\n",
    "        g = tf.maximum(tf.matmul(W_y2,y),tf.matmul(W_z,z), name='g')\n",
    "        s = tf.matmul(h,g)\n",
    "        # here we declare the error i.e. the loss function\n",
    "        error = tf.subtract(s , s_actual)\n",
    "        loss = tf.matmul(error,error, name='loss')\n",
    "        return ({'h':h,'g':g,'s':s,'error':error,'loss':loss})\n",
    "    \n",
    "    def gradient_computation():\n",
    "        with tf.GradientTape() as tape:\n",
    "            h = g = s = error = loss = None\n",
    "            d = feed_forward(h,g,s,error, loss)\n",
    "            # here we will monitor each and every gradient value\n",
    "            print(tape.gradient([d['s']], [d['h']]))\n",
    "    \n",
    "    def weights_update():\n",
    "        \"\"\"\n",
    "        Here we will update the weights \n",
    "        \"\"\"\n",
    "        pass\n",
    "    gradient_computation()"
   ]
  },
  {
   "cell_type": "code",
   "execution_count": 82,
   "metadata": {},
   "outputs": [
    {
     "name": "stdout",
     "output_type": "stream",
     "text": [
      "[<tf.Tensor: shape=(1, 1), dtype=float32, numpy=array([[4.]], dtype=float32)>]\n"
     ]
    }
   ],
   "source": [
    "input_dict = {'x':[[2.]],\n",
    "              'y':[[3.]],\n",
    "              'z':[[4.]]\n",
    "             }\n",
    "s_actual = [[5.0]]\n",
    "computation(input_dict,s_actual)\n",
    "# tf.matmul(a=[[2.0]], b=[[0.0]])"
   ]
  },
  {
   "cell_type": "code",
   "execution_count": 40,
   "metadata": {},
   "outputs": [
    {
     "data": {
      "text/plain": [
       "6.0"
      ]
     },
     "execution_count": 40,
     "metadata": {},
     "output_type": "execute_result"
    }
   ],
   "source": [
    "x = tf.Variable(3.0)\n",
    "\n",
    "with tf.GradientTape() as tape:\n",
    "    y = x**2\n",
    "# dy = 2x * dx\n",
    "dy_dx = tape.gradient(y, x)\n",
    "dy_dx.numpy()"
   ]
  },
  {
   "cell_type": "code",
   "execution_count": null,
   "metadata": {},
   "outputs": [],
   "source": []
  }
 ],
 "metadata": {
  "kernelspec": {
   "display_name": "Python 3",
   "language": "python",
   "name": "python3"
  },
  "language_info": {
   "codemirror_mode": {
    "name": "ipython",
    "version": 3
   },
   "file_extension": ".py",
   "mimetype": "text/x-python",
   "name": "python",
   "nbconvert_exporter": "python",
   "pygments_lexer": "ipython3",
   "version": "3.7.7"
  }
 },
 "nbformat": 4,
 "nbformat_minor": 4
}
