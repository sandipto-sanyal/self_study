{
 "cells": [
  {
   "cell_type": "markdown",
   "metadata": {},
   "source": [
    "# The idea\n",
    "We are trying to find the optimum values of weights in a dataset with arbitrary number of features. The formula for multiple linear regression is as follows: <br>\n",
    "\n",
    "1. y<sub>pred</sub> = w<sub>1</sub>x<sub>1</sub> + w<sub>2</sub>x<sub>2</sub> + w<sub>3</sub>x<sub>3</sub> + ... w<sub>n</sub>x<sub>n</sub> + w<sub>0</sub>x<sub>0</sub> or y<sub>pred</sub> = W.x where x<sub>0</sub> = 1\n",
    "1. Error formula: e = (y<sub>pred</sub> - y<sub>actual</sub>)<sup>2</sup> = (W.x - y<sub>actual</sub>)<sup>2</sup> = (w<sub>1</sub>x<sub>1</sub> + w<sub>2</sub>x<sub>2</sub> + w<sub>3</sub>x<sub>3</sub> + ... w<sub>n</sub>x<sub>n</sub> + w<sub>0</sub>x<sub>0</sub> - y<sub>actual</sub>)<sup>2</sup>\n",
    "1. Derivative vector de/dW = {de/dw<sub>1</sub>, de/dw<sub>2</sub>, de/dw<sub>3</sub>, ... de/dw<sub>n</sub>, de/dw<sub>0</sub>} <br>\n",
    " = δe/δy<sub>pred</sub>.{δy<sub>pred</sub>/δw<sub>1</sub>, δy<sub>pred</sub>/δw<sub>2</sub> ..., δy<sub>pred</sub>/δw<sub>n</sub>, δy<sub>pred</sub>/δw<sub>0</sub>} <br>\n",
    " = 2*(y<sub>pred</sub> - y<sub>actual</sub>){δy<sub>pred</sub>/δw<sub>1</sub>, δy<sub>pred</sub>/δw<sub>2</sub> ..., δy<sub>pred</sub>/δw<sub>n</sub>, δy<sub>pred</sub>/δw<sub>0</sub>} <br>\n",
    " = 2*(y<sub>pred</sub> - y<sub>actual</sub>){x<sub>1</sub>, x<sub>2</sub>, x<sub>3</sub>,... x<sub>n</sub>, x<sub>0</sub>} \n",
    "1. Change the weights: W<sub>new</sub> = W<sub>old</sub> - ηde/dW"
   ]
  },
  {
   "cell_type": "code",
   "execution_count": 1,
   "metadata": {},
   "outputs": [],
   "source": [
    "import numpy as np\n",
    "from typing import List\n",
    "import matplotlib.pyplot as plt\n",
    "from statistics import mean"
   ]
  },
  {
   "cell_type": "markdown",
   "metadata": {},
   "source": [
    "# Define the linear regression function\n",
    "Here we define the linear regression function as below:<br>\n",
    "\n",
    "y<sub>pred</sub> = w<sub>1</sub>x<sub>1</sub> + w<sub>2</sub>x<sub>2</sub> + w<sub>3</sub>x<sub>3</sub> + ... w<sub>n</sub>x<sub>n</sub> + w<sub>0</sub>x<sub>0</sub> where x<sub>0</sub> = 1"
   ]
  },
  {
   "cell_type": "code",
   "execution_count": 2,
   "metadata": {},
   "outputs": [],
   "source": [
    "def linear_regression(\n",
    "    W: np.array,\n",
    "    x: List[float]\n",
    "    ) -> float:\n",
    "    # first we do a checking whether both the shapes of W and x are same\n",
    "    assert len(W) == len(x), \"Length of weight and predictor vectors should be equal\"\n",
    "    y_pred = np.dot(W, x)\n",
    "    return y_pred"
   ]
  },
  {
   "cell_type": "code",
   "execution_count": 3,
   "metadata": {},
   "outputs": [
    {
     "data": {
      "text/plain": [
       "23.0"
      ]
     },
     "execution_count": 3,
     "metadata": {},
     "output_type": "execute_result"
    }
   ],
   "source": [
    "W=[2.0,3.0];x=[4,5]\n",
    "linear_regression(W,x)"
   ]
  },
  {
   "cell_type": "code",
   "execution_count": 4,
   "metadata": {},
   "outputs": [],
   "source": [
    "def error_calculation(y_pred: float, \n",
    "                      y_actual: float) -> float:\n",
    "    error = (y_pred - y_actual)**2\n",
    "    return error"
   ]
  },
  {
   "cell_type": "code",
   "execution_count": 5,
   "metadata": {},
   "outputs": [
    {
     "data": {
      "text/plain": [
       "9"
      ]
     },
     "execution_count": 5,
     "metadata": {},
     "output_type": "execute_result"
    }
   ],
   "source": [
    "error_calculation(2,5)"
   ]
  },
  {
   "cell_type": "markdown",
   "metadata": {},
   "source": [
    "# Here we will calculate the derivative of the function using below formula\n",
    "Derivative vector de/dW = {de/dw<sub>1</sub>, de/dw<sub>2</sub>, de/dw<sub>3</sub>, ... de/dw<sub>n</sub>} <br>\n",
    " = δe/δy<sub>pred</sub>.{δy<sub>pred</sub>/δw<sub>1</sub>, δy<sub>pred</sub>/δw<sub>2</sub> ..., δy<sub>pred</sub>/δw<sub>n</sub>} <br>\n",
    " = 2*(y<sub>pred</sub> - y<sub>actual</sub>){δy<sub>pred</sub>/δw<sub>1</sub>, δy<sub>pred</sub>/δw<sub>2</sub> ..., δy<sub>pred</sub>/δw<sub>n</sub>} <br>\n",
    " = 2*(y<sub>pred</sub> - y<sub>actual</sub>){x<sub>1</sub>, x<sub>2</sub>, x<sub>3</sub>,... x<sub>n</sub>} "
   ]
  },
  {
   "cell_type": "code",
   "execution_count": 6,
   "metadata": {},
   "outputs": [],
   "source": [
    "def calculate_derivative(\n",
    "                         x: List[float],\n",
    "                         y_actual: float,\n",
    "                         y_pred: float\n",
    "                        ) -> np.array:\n",
    "    de_dW = 2*(y_pred-y_actual)*np.array(x)\n",
    "    return de_dW"
   ]
  },
  {
   "cell_type": "code",
   "execution_count": 7,
   "metadata": {},
   "outputs": [
    {
     "data": {
      "text/plain": [
       "array([-2. , -2.5])"
      ]
     },
     "execution_count": 7,
     "metadata": {},
     "output_type": "execute_result"
    }
   ],
   "source": [
    "calculate_derivative(x=x,y_pred=23.0,y_actual=23.25)"
   ]
  },
  {
   "cell_type": "markdown",
   "metadata": {},
   "source": [
    "# Update the weights and biases\n",
    "Change the weights: W<sub>new</sub> = W<sub>old</sub> - ηde/dW"
   ]
  },
  {
   "cell_type": "code",
   "execution_count": 8,
   "metadata": {},
   "outputs": [],
   "source": [
    "def update_weights(\n",
    "    W: List[float],\n",
    "    de_dW: np.array,\n",
    "    learning_rate: float=0.001\n",
    ") -> np.array:\n",
    "    W_new = W - learning_rate*de_dW\n",
    "    return W_new"
   ]
  },
  {
   "cell_type": "code",
   "execution_count": 9,
   "metadata": {},
   "outputs": [
    {
     "data": {
      "text/plain": [
       "array([2.002 , 3.0025])"
      ]
     },
     "execution_count": 9,
     "metadata": {},
     "output_type": "execute_result"
    }
   ],
   "source": [
    "update_weights(W,np.array([-2. , -2.5]),0.001)"
   ]
  },
  {
   "cell_type": "markdown",
   "metadata": {},
   "source": [
    "# Stitch all the methods together"
   ]
  },
  {
   "cell_type": "code",
   "execution_count": 10,
   "metadata": {},
   "outputs": [],
   "source": [
    "def train(\n",
    "    dataset:np.array,\n",
    "    learning_rate = 0.001,\n",
    "    bias: float = None,\n",
    "    epochs = 1,\n",
    "    W = None,\n",
    "    plot_graphs = False\n",
    "         ):\n",
    "    # initialize W:\n",
    "    if W == None:\n",
    "        W: np.array=np.zeros(dataset[:,:-1].shape[1])\n",
    "    error_list = []\n",
    "    # append the bias\n",
    "    if bias != None:\n",
    "        W = np.append(W, bias)\n",
    "    for epoch in range(0,epochs):\n",
    "        error_list_per_epoch = []\n",
    "        for row in dataset:\n",
    "            # get the features\n",
    "            x: List[float] = row[:-1]\n",
    "            y_actual: float = row[-1]\n",
    "            # append the bias terms\n",
    "            if bias != None:\n",
    "                x = np.append(x,1.0)\n",
    "            # perform the linear regression\n",
    "            y_pred = linear_regression(W=W, x=x)\n",
    "            # calculate error\n",
    "            error = error_calculation(y_pred, y_actual)\n",
    "            error_list_per_epoch.append(error)\n",
    "            # calculate derivative\n",
    "            de_dW = calculate_derivative(x=x, y_pred=y_pred, y_actual=y_actual)\n",
    "            # update the weights\n",
    "            W = update_weights(W, de_dW, learning_rate)\n",
    "        \n",
    "        # plot the graph at end of each epoch\n",
    "        # first check whether the given dataset is a single feature dataset or not\n",
    "        if dataset[:,:-1].shape[1] == 1 and plot_graphs:\n",
    "            if bias == None:\n",
    "                plt.scatter(dataset[:,0], dataset[:,1])\n",
    "                y_pred = W[0]*dataset[:,0]\n",
    "                plt.plot(dataset[:,0], y_pred)\n",
    "            else:\n",
    "                plt.scatter(dataset[:,0], dataset[:,1])\n",
    "                y_pred = W[0]*dataset[:,0] + W[1]\n",
    "                plt.plot(dataset[:,0], y_pred)\n",
    "        error_list.append(mean(error_list_per_epoch))\n",
    "    return (error_list, W)"
   ]
  },
  {
   "cell_type": "markdown",
   "metadata": {},
   "source": [
    "# Create a sample dataset"
   ]
  },
  {
   "cell_type": "code",
   "execution_count": 11,
   "metadata": {
    "scrolled": true
   },
   "outputs": [],
   "source": [
    "import pandas as pd\n",
    "data = {'x1':np.random.randn(50),\n",
    "#         'x2': np.random.randn(50),\n",
    "#         'x3': np.random.randn(50)\n",
    "       }\n",
    "df = pd.DataFrame(data)\n",
    "df['y'] = 25 + 2*df.x1\n",
    "# 3*df.x2 + 5*df.x3 + \\"
   ]
  },
  {
   "cell_type": "markdown",
   "metadata": {},
   "source": [
    "# Get the average errors per epoch and the corresponding weights"
   ]
  },
  {
   "cell_type": "code",
   "execution_count": 12,
   "metadata": {},
   "outputs": [
    {
     "data": {
      "image/png": "[encoded data removed]",
      "text/plain": [
       "<Figure size 432x288 with 1 Axes>"
      ]
     },
     "metadata": {
      "needs_background": "light"
     },
     "output_type": "display_data"
    }
   ],
   "source": [
    "dataset = df.values\n",
    "error_list, W = train(dataset=dataset, \n",
    "                      bias=0, \n",
    "                      epochs=50, \n",
    "                      learning_rate=0.001,\n",
    "                      W = [0],\n",
    "                      plot_graphs= True\n",
    "                     )"
   ]
  },
  {
   "cell_type": "code",
   "execution_count": 13,
   "metadata": {},
   "outputs": [
    {
     "data": {
      "text/plain": [
       "array([ 1.98804021, 24.83279678])"
      ]
     },
     "execution_count": 13,
     "metadata": {},
     "output_type": "execute_result"
    }
   ],
   "source": [
    "W"
   ]
  },
  {
   "cell_type": "markdown",
   "metadata": {},
   "source": [
    "# View how error is decreasing with epochs"
   ]
  },
  {
   "cell_type": "code",
   "execution_count": 14,
   "metadata": {},
   "outputs": [
    {
     "data": {
      "text/plain": [
       "Text(0, 0.5, 'Error')"
      ]
     },
     "execution_count": 14,
     "metadata": {},
     "output_type": "execute_result"
    },
    {
     "data": {
      "image/png": "[encoded data removed]",
      "text/plain": [
       "<Figure size 432x288 with 1 Axes>"
      ]
     },
     "metadata": {
      "needs_background": "light"
     },
     "output_type": "display_data"
    }
   ],
   "source": [
    "plt.plot([i+1 for i in range(0,len(error_list))], error_list)\n",
    "plt.xlabel('Epoch')\n",
    "plt.ylabel('Error')"
   ]
  },
  {
   "cell_type": "markdown",
   "metadata": {},
   "source": [
    "# View the effect of learning rate on error decrease"
   ]
  },
  {
   "cell_type": "code",
   "execution_count": 15,
   "metadata": {},
   "outputs": [
    {
     "data": {
      "image/png": "[encoded data removed]",
      "text/plain": [
       "<Figure size 432x288 with 1 Axes>"
      ]
     },
     "metadata": {
      "needs_background": "light"
     },
     "output_type": "display_data"
    }
   ],
   "source": [
    "learning_rates = [0.1,0.01,0.001,0.0001,0.00001]\n",
    "for learning_rate in learning_rates:\n",
    "    error_list, W = train(dataset=dataset, \n",
    "                      bias=0, \n",
    "                      epochs=25, \n",
    "                      learning_rate=learning_rate,\n",
    "                      W = None\n",
    "                     )\n",
    "    plt.plot([i+1 for i in range(0,len(error_list))], error_list)\n",
    "    plt.legend(learning_rates)\n",
    "    plt.xlabel('Epoch')\n",
    "    plt.ylabel('Error')"
   ]
  },
  {
   "cell_type": "code",
   "execution_count": null,
   "metadata": {},
   "outputs": [],
   "source": []
  }
 ],
 "metadata": {
  "kernelspec": {
   "display_name": "Python 3",
   "language": "python",
   "name": "python3"
  },
  "language_info": {
   "codemirror_mode": {
    "name": "ipython",
    "version": 3
   },
   "file_extension": ".py",
   "mimetype": "text/x-python",
   "name": "python",
   "nbconvert_exporter": "python",
   "pygments_lexer": "ipython3",
   "version": "3.7.6"
  }
 },
 "nbformat": 4,
 "nbformat_minor": 4
}
